{
 "cells": [
  {
   "cell_type": "code",
   "execution_count": 40,
   "metadata": {},
   "outputs": [
    {
     "name": "stdout",
     "output_type": "stream",
     "text": [
      "Step 0: x = tensor([1.0000, 5.0000]), f(x) = -inf\n",
      "Step 100: x = tensor([-1.9876e+09,  5.0000e+00]), f(x) = -inf\n",
      "Step 200: x = tensor([-1.6461e+17,  5.0000e+00]), f(x) = -inf\n",
      "Step 300: x = tensor([-1.3633e+25,  5.0000e+00]), f(x) = -inf\n",
      "Step 400: x = tensor([-1.1290e+33,  5.0000e+00]), f(x) = -inf\n",
      "Step 500: x = tensor([-inf, 5.]), f(x) = -inf\n",
      "Step 600: x = tensor([-inf, 5.]), f(x) = -inf\n",
      "Step 700: x = tensor([-inf, 5.]), f(x) = -inf\n",
      "Step 800: x = tensor([-inf, 5.]), f(x) = -inf\n",
      "Step 900: x = tensor([-inf, 5.]), f(x) = -inf\n",
      "Optimization finished.\n",
      "Minimum found at x = tensor([-inf, 5.]), f(x) = -inf\n"
     ]
    }
   ],
   "source": [
    "# A farmer has purchased some fresh cows. He is going to build them a new paddock but he only has 100 meters of fencing wire. Considering this constraint, What dimensions\n",
    "# (length*width) give the paddock with the largest total area??\n",
    "\n",
    "import torch\n",
    "from torch.autograd import Variable\n",
    "import torch.optim as optim\n",
    "\n",
    "# Define the function to maximize\n",
    "def func(x):\n",
    "    return -(x[0] * x[1])  # maximize: f(x, y) = x*y, (-ve to find max?_\n",
    "\n",
    "def constraint(x):  #constraint function f(x, y) = 2(x+y)-100=0\n",
    "    return 2 * (x[0] + x[1]) - 100\n",
    "\n",
    "# Initial guess for the minimum\n",
    "x = Variable(torch.tensor([5.0, 5.0]), requires_grad=True) #(have to fit the constraint equationf(x, y) = 2(x+y)-100=0 ??)\n",
    "\n",
    "# Define the optimizer\n",
    "optimizer = optim.SGD([x], lr=0.1)  # Using SGD optimizer with learning rate 0.1\n",
    "\n",
    "# Number of optimization steps\n",
    "num_steps = 1000\n",
    "\n",
    "# Optimization loop\n",
    "for step in range(num_steps):\n",
    "    optimizer.zero_grad()  # Clear previous gradients\n",
    "\n",
    "    loss =      #hmmmm.... ??\n",
    "\n",
    "\n",
    "    loss.backward()\n",
    "\n",
    "    optimizer.step()  # Update parameters based on gradients\n",
    "\n",
    "    # Print progress\n",
    "    if step % 100 == 0:\n",
    "        print(f'Step {step}: x = {x.data}, f(x) = {output.item()}')\n",
    "\n",
    "print(\"Optimization finished.\")\n",
    "print(f'Minimum found at x = {x.data}, f(x) = {output.item()}')\n"
   ]
  }
 ],
 "metadata": {
  "kernelspec": {
   "display_name": "base",
   "language": "python",
   "name": "python3"
  },
  "language_info": {
   "codemirror_mode": {
    "name": "ipython",
    "version": 3
   },
   "file_extension": ".py",
   "mimetype": "text/x-python",
   "name": "python",
   "nbconvert_exporter": "python",
   "pygments_lexer": "ipython3",
   "version": "3.11.5"
  }
 },
 "nbformat": 4,
 "nbformat_minor": 2
}

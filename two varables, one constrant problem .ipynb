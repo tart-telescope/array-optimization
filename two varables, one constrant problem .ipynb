{
 "cells": [
  {
   "cell_type": "code",
   "execution_count": 10,
   "metadata": {},
   "outputs": [
    {
     "name": "stdout",
     "output_type": "stream",
     "text": [
      "Step 0: x = tensor([5.5000, 5.5000]), f(x) = -25.0\n",
      "Step 100: x = tensor([75793.4297, 75793.4297]), f(x) = -4747639808.0\n",
      "Step 200: x = tensor([1.0445e+09, 1.0445e+09]), f(x) = -9.016017337995756e+17\n",
      "Step 300: x = tensor([1.4394e+13, 1.4394e+13]), f(x) = -1.7121915516405398e+26\n",
      "Step 400: x = tensor([1.9835e+17, 1.9835e+17]), f(x) = -3.251547310446155e+34\n",
      "Step 500: x = tensor([2.7334e+21, 2.7334e+21]), f(x) = -inf\n",
      "Step 600: x = tensor([3.7668e+25, 3.7668e+25]), f(x) = -inf\n",
      "Step 700: x = tensor([5.1909e+29, 5.1909e+29]), f(x) = -inf\n",
      "Step 800: x = tensor([7.1534e+33, 7.1534e+33]), f(x) = -inf\n",
      "Step 900: x = tensor([9.8578e+37, 9.8578e+37]), f(x) = -inf\n",
      "Optimization finished.\n",
      "Minimum found at x = tensor([inf, inf]), f(x) = -inf\n"
     ]
    }
   ],
   "source": [
    "# A farmer has purchased some fresh cows. He is going to build them a new paddock but he only has 100 meters of fencing wire. Considering this constraint, What dimensions\n",
    "# (length x width) give the paddock with the largest total area??\n",
    "\n",
    "import torch\n",
    "from torch.autograd import Variable\n",
    "import torch.optim as optim\n",
    "\n",
    "# Define the function to maximize\n",
    "def func(x):\n",
    "    return -(x[0] * x[1])  # maximize: f(x, y) = x*y, (-ve to find max?_\n",
    "\n",
    "def constraint(x):  #constraint function f(x, y) = 2(x+y)-100=0\n",
    "    return 2 * (x[0] + x[1]) - 100\n",
    "\n",
    "# Initial guess for the minimum\n",
    "x = Variable(torch.tensor([5.0, 5.0]), requires_grad=True) #(have to fit the constraint equationf(x, y) = 2(x+y)-100=0 ??)\n",
    "\n",
    "# Define the optimizer\n",
    "optimizer = optim.SGD([x], lr=0.1)  # Using SGD optimizer with learning rate 0.1\n",
    "\n",
    "# Number of optimization steps\n",
    "num_steps = 1000\n",
    "\n",
    "# Optimization loop\n",
    "for step in range(num_steps):\n",
    "    optimizer.zero_grad()  # Clear previous gradients\n",
    "    \n",
    "    \n",
    "    output = func(x)\n",
    "    \n",
    "    loss = func(x)\n",
    "\n",
    "\n",
    "    loss.backward()\n",
    "\n",
    "    optimizer.step()  # Update parameters based on gradients\n",
    "\n",
    "    # Print progress\n",
    "    if step % 100 == 0:\n",
    "        print(f'Step {step}: x = {x.data}, f(x) = {output.item()}')\n",
    "\n",
    "print(\"Optimization finished.\")\n",
    "print(f'Minimum found at x = {x.data}, f(x) = {output.item()}')\n"
   ]
  },
  {
   "cell_type": "code",
   "execution_count": null,
   "metadata": {},
   "outputs": [],
   "source": []
  }
 ],
 "metadata": {
  "kernelspec": {
   "display_name": "base",
   "language": "python",
   "name": "python3"
  },
  "language_info": {
   "codemirror_mode": {
    "name": "ipython",
    "version": 3
   },
   "file_extension": ".py",
   "mimetype": "text/x-python",
   "name": "python",
   "nbconvert_exporter": "python",
   "pygments_lexer": "ipython3",
   "version": "3.11.5"
  }
 },
 "nbformat": 4,
 "nbformat_minor": 2
}

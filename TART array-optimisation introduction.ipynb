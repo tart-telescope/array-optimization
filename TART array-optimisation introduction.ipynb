{
 "cells": [
  {
   "cell_type": "markdown",
   "metadata": {},
   "source": [
    "This file contains the introduction material for my honours project"
   ]
  },
  {
   "cell_type": "markdown",
   "metadata": {},
   "source": [
    "**INTRO - LEAD IN :**\n",
    "Since our conception, we as human beings, have had an obsession with the stars. From anthropomorphising the distant glow of nuclear fusion as divine beings, to believing that the constellation present in the night sky at the time of your birth affects your personality… We have spent many hours observing celestial objects and phonoma, and through the application of the scientific method we have learnt a lot about our universe. \n",
    "\n",
    "Initially, the only tools we had to learn about the universe were our eyes, but things quickly changed when Hans Lippershey invented the optical telescope in 1608 (although there is some speculation that he stole the design). The optical telescope let us see a magnified image of the night sky, which in turn, gave us the opportunity to observe the objects and processes of space in greater detail. Galileo Galilei was the first to point his telescope up and quickly discovered that there were craters on the moon and rings on saturn. \n",
    "\n",
    "As science progressed it was discovered that visible light, the kind used by the optical telescope, was only a small part of a spectrum of electromagnetic radiation. This meant that when Jansky (1933?) discovered that there were radio waves coming from outer space we set out to build equipment that could detect them - the radio telescope.\n",
    "\n",
    "**INTRO - WHAT IS A RADIO ASTRONOMY AND INTERFEROMETRY:**\n",
    "Radio astronomy is very similar to optical astronomy, the goal remains the same: to use electromagnetic radiation to observe objects and processes in our universe. The key difference being that in radio astronomy a different part of the electromagnetic radiation spectrum is used. Seeing the universe through the radio spectrum allows radio astronomers to gather information using a much different band of electromagnetic radiation and In turn, means that when we use a radio telescope we can see features that are invisible in the optical light range. A prime example of this is radio lobes on galaxies caused by black holes. \n",
    "\n",
    "Visible light is just a narrow band of electromagnetic radiation that has a wavelength ranging between 380nm to 700nm, radio waves on the other hand can range between millimeters up to kilometers (in saying that I believe that our atmosphere blocks radio waves more than about 10 meters?). As I'm sure you know an optical telescope gathers and concentrates visible light waves using either lenses or mirrors. In order to collect and concentrate radio waves we use a large, normally paraboloid shaped dish and an antenna. The dish captures and concentrates the radio waves and the antenna records the information. For a single antenna radio telescope's sensitivity is proportional to its size, the larger the dish the more sensitive the instrument. However, the angular resolution (how sharp of an image it can give) is proportional to the ratio λ/D, where lambda is the wavelength of radiation and D is the diameter of the dish. While the system works well it has been a challenge to engineer a parabolic dish large enough to facilitate clear and sensitive images… Enter radio interferometry.\n",
    " \n",
    "Radio interferometry is a modern technique that allows scientists to use a series of smaller radio telescopes (linked together) to create an array, this does not change the sensitivity of the instruments but it does increase the angular resolution as we are effectively increasing D from the formula above (λ/D). \n",
    "(more on this topic later)\n",
    "\n",
    "\n",
    "**INTRO - HISTORY OF RADIO TELESCOPES:**\n",
    "Conflict is often a motivation for technological advancement; inventions such as the global positioning system (GPS), the jet engine, and super glue were all motivated by war. Generally speaking these new technologies are adapted and trickle down into society to be used by civilians, this is why none of the aforementioned inventions are thought of as exclusively military. In a similar way the technology and scientific understanding that has given us the radio telescope was born from RADAR (Radio Detection And Ranging) - a war time invention.\n",
    "\n",
    "However, the story begins slightly before the war, during the 1890’s (exact date?) when Thomas Alva Edison turned his radio receiver towards the sun in the first attempt to receive celestial radio waves. No signals were received. Edison's attempt was followed up by Sir Oliver J. Lodge who also had no luck. Between the late 1890s and WWI several other groups attempted to receive radio waves from the sun using various different techniques but they all failed too. \n",
    "\n",
    "Then during the 1930s Bell laboratories began experimenting with the idea of setting up intercontinental phone lines. They quickly discovered that there was an unidentified source of interference, and entrusted a young physicist named  Karl Jansky, to locate the unidentified source. Jansky decided to build a large rotating antenna that he hoped could be used to pinpoint the source. Using his device (in 1932) he discovered a source of interference that was coming from space, the trouble was that at this stage antennas had a low angular resolution meaning that while he knew the interference was coming from the sky (around the constellation Sagittarius) he couldn't pinpoint it exactly. Jansky’s findings were followed up and confirmed by Grote Reber, in a self directed project he ran from home. \n",
    "\n",
    "When world war 2 broke out much of the scientific research was put on hold, the only exceptions were things that could be used by the military. One priority for the military was ‘early detection systems’, enter Radio Detection And Ranging (RADAR). Initially, it was very rudimentary, just being systems of wires hung from poles that transmitted and received radio waves, and while it wasn't a perfect system it did give the allied forces a heads up when enemy bombers and fighters were coming. Further investments were made into the RADAR technology allowing it to become more portable, sensitive and accurate. \n",
    "\n",
    "After the war the uses of radio wave technology were re-evaluated. Without enemy planes flying overhead there was less need to continue investing in RADAR. This began the dawn of radio telescopes. Life for the fledgling radio astronomers was made easy by all the excess radio equipment left over from the war, they were able to pick up and repurpose high quality antennas for pennies on the dollar. Another post war benefit was that there were alot of highly educated radio operators/engineers that knew the ins and outs of the war time systems, and they were often experts on upper atmospheric physics too. This led to the creation of lots of new radio astronomy groups during the late 1940’s and all throughout the 1950’s. These early groups were predominantly based in Europe, the United Kingdom, and Australia. \n",
    "\n",
    "One of the more famous European radio astronomy groups was formed in the Netherlands and led by Hendrik Christoffel van de Hulst. He predicted that using radio telescopes it would be possible to detect spectral lines of hydrogen and a wavelength of 21cm. To prove his theory, and carry out observations his team upgraded an obsolete German Würzburg radar that was given to them by the postal service, and in 1951 they successfully detected hydrogen spectral lines at 21cm. Sadly for them, they were beaten to this discovery by Harold Ewen and Edward Purcell, PhD students studying at harvard. \n",
    "\n",
    "In the UK multiple radio astronomy groups popped up right after the war. None were more famous than the one led by Martin Ryle at Cavendish laboratory (run out of Cambridge University). In 1946 (double check date) Ryles group was the first to incorporate multi-antenna interferometric techniques to increase the angular resolution of their equipment. Then in 1952, His group also pioneered and introduced phase switching interferometry which essentially minimized the unwanted noise of the system leaving behind a clearer signal; this helped with an instrument's sensitivity. This group was also famous for its large scale surveys of the sky where they documented and cataloged radio sources.\n",
    "\n",
    "Australia also had a great deal of influence during the early years of radio astronomy, this stemmed from sydney being home to a high level wartime radar laboratory, which after the war was converted into a scientific facility. The two lead scientists were Edward Bowen and Joseph Pawsey, who for many years guided their team to many scientific discoveries, such as: the discovery of hot radio solar corona and, the correlation of three radio sources with optical sources. They also lead the way in terms of the development of new techniques such as sea-cliff interferometry and fourier synthesized maps. The successful science that Bowen and Pawsey helped produce ended up causing the International Union of Radio Science to hold their 1952 seminar in Sydney.\n",
    "\n",
    "All the aforementioned groups, along with many other scientists, made tremendous gains for the field of radio astronomy. The evolution of this field of science has primarily been made possible through designing better equipment and the development of new techniques. As mentioned earlier, the first radio telescopes were simply paraboloid dishes with a radio receiver at the focal point. These designs offered limited angular resolution and because their sensitivity increased with size, they had to be built as large as possible. However, many factors limited their size, the primary limitations were the engineers ability to create a structure that had enough precision to take accurate measurements, and rigid enough to not be affected by the wind or temperature changes; and of course the project had to be completed within the available budget. Often these early radio telescopes were designed to have some movement so that they could scan the sky, however, as the size of these telescopes got larger it became troublesome to have an adjustable azimuth and elevation. This led engineers to design telescopes that relied on the rotation of earth to change their azimuth angle. In these large designs some telescopes took advantage of a spherical dish (instead of standard parabolic dish) that permitted the zenith angle to be adjusted by moving the where the radio receiver is located. This is how the Arecibo in Puerto Rico works. \n",
    "\n",
    "Older radio telescopes did not have particularly good angular resolution when compared with traditional optical telescopes. This is because electromagnetic radiation in the radio spectrum has a longer wavelength than that of electromagnetic radiation in the visible light spectrum. This means the diameter of a radio telescope needs to be many orders of magnitude larger in order to attain the same angular resolution that can be achieved by an optical telescope. Because radio astronomers wanted better angular resolution and building larger and larger radio telescopes was expensive and impractical a different solution had to be found. The solution was radio interferometry. This is essentially the science of combining the information received from multiple radio telescopes to create one higher quality image. The first group to use this technique was led by Ryles from cavendish laboratories in 1946. They set up two dipole antennas at a distance (exact distance varies?) from one another. As the two antennas scanned the sky they picked up radio signals which were then combined into a single signal that was of a higher quality than either of the individual signals. (reasons for better quality images discussed in detailed interferometry paragraph... essentially having multiple radio antennas allows for a higher angular resolution in a similar way that increasing dish size does. With that being said it does not increase the sensitivity of the radio telescope like increasing dish size does…). It was this technique that turned into Very Long Baseline Interferometry (VLBI) which is known to have extremely high angular resolution.   Shortly after developing the two element radio interferometer Ryles and his team set out to find a way to increase the quality of the signal their system could return. They invented phase-switching-interferometry; the system essentially works by periodically changing the phase on one of the antennas by 180 degrees. This system removed the noise from the system's output leaving behind only the valuable information - the fringe oscillations (again more info in the interferometry section) \n",
    "\n",
    "more coming soon...\n",
    "\n",
    "\n",
    "\n",
    "\n",
    "**INTRO - THE TART:**\n",
    "\n",
    "**INTRO - MACHINE LEARNING:**\n",
    "\n"
   ]
  }
 ],
 "metadata": {
  "kernelspec": {
   "display_name": "Python 3",
   "language": "python",
   "name": "python3"
  },
  "language_info": {
   "codemirror_mode": {
    "name": "ipython",
    "version": 3
   },
   "file_extension": ".py",
   "mimetype": "text/x-python",
   "name": "python",
   "nbconvert_exporter": "python",
   "pygments_lexer": "ipython3",
   "version": "3.11.5"
  }
 },
 "nbformat": 4,
 "nbformat_minor": 2
}

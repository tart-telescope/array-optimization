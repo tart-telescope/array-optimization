{
 "cells": [
  {
   "cell_type": "code",
   "execution_count": 4,
   "metadata": {},
   "outputs": [
    {
     "ename": "ModuleNotFoundError",
     "evalue": "No module named 'matplotlin'",
     "output_type": "error",
     "traceback": [
      "\u001b[0;31m---------------------------------------------------------------------------\u001b[0m",
      "\u001b[0;31mModuleNotFoundError\u001b[0m                       Traceback (most recent call last)",
      "Cell \u001b[0;32mIn[4], line 4\u001b[0m\n\u001b[1;32m      2\u001b[0m \u001b[38;5;28;01mimport\u001b[39;00m \u001b[38;5;21;01mforward_map\u001b[39;00m\n\u001b[1;32m      3\u001b[0m \u001b[38;5;28;01mimport\u001b[39;00m \u001b[38;5;21;01mnumpy\u001b[39;00m \u001b[38;5;28;01mas\u001b[39;00m \u001b[38;5;21;01mnp\u001b[39;00m \n\u001b[0;32m----> 4\u001b[0m \u001b[38;5;28;01mimport\u001b[39;00m \u001b[38;5;21;01mmatplotlin\u001b[39;00m\u001b[38;5;21;01m.\u001b[39;00m\u001b[38;5;21;01mpyplot\u001b[39;00m \u001b[38;5;28;01mas\u001b[39;00m \u001b[38;5;21;01mplt\u001b[39;00m \n\u001b[1;32m      7\u001b[0m n_ant \u001b[38;5;241m=\u001b[39m \u001b[38;5;241m24\u001b[39m\n\u001b[1;32m      8\u001b[0m radius \u001b[38;5;241m=\u001b[39m \u001b[38;5;241m2.0\u001b[39m\n",
      "\u001b[0;31mModuleNotFoundError\u001b[0m: No module named 'matplotlin'"
     ]
    }
   ],
   "source": [
    "import torch\n",
    "import forward_map\n",
    "import numpy as np \n",
    "import matplotlib.pyplot as plt \n",
    "\n",
    "\n",
    "n_ant = 24\n",
    "radius = 2.0\n",
    "\n",
    "min_spacing = 0.2\n",
    "\n",
    "### Create the fov object once. It should NOT be created each time the array is evaluated\n",
    "fov = forward_map.SquareFoV(res_arcmin=60,\n",
    "                theta = 0.0, phi=0.0,\n",
    "                width_rad=np.radians(140))\n",
    "\n",
    "\n",
    "## Generate some random antenna positions\n",
    "\n",
    "x = 2*radius*torch.rand(size=(n_ant,)) - radius\n",
    "y = 2*radius*torch.rand(size=(n_ant,)) - radius\n",
    "z = torch.zeros_like(x)\n",
    "\n",
    "# Score the image\n",
    "image = forward_map.point_spread_function(x,y,z,fov)\n",
    "\n",
    "## Now score the image using torch functions.\n",
    "\n",
    "penalty = forward_map.get_penalty(x,y,z, min_spacing)\n",
    "\n",
    "plt.imshow(image)"
   ]
  },
  {
   "cell_type": "code",
   "execution_count": null,
   "metadata": {},
   "outputs": [],
   "source": []
  }
 ],
 "metadata": {
  "kernelspec": {
   "display_name": "base",
   "language": "python",
   "name": "python3"
  },
  "language_info": {
   "codemirror_mode": {
    "name": "ipython",
    "version": 3
   },
   "file_extension": ".py",
   "mimetype": "text/x-python",
   "name": "python",
   "nbconvert_exporter": "python",
   "pygments_lexer": "ipython3",
   "version": "3.11.5"
  }
 },
 "nbformat": 4,
 "nbformat_minor": 2
}

{
 "cells": [
  {
   "cell_type": "code",
<<<<<<< HEAD
   "execution_count": 116,
=======
   "execution_count": 1,
   "metadata": {},
   "outputs": [],
   "source": [
    "def length(a,b):\n",
    "    x1, y1 = a\n",
    "    x2, y2 = b\n",
    "    return sqrt((x2 - x1)**2 + (y2 - y1)**2)\n",
    "\n",
    "def get_triangle_sides(a,b,c):\n",
    "    s1 = length(a,b)\n",
    "    s2 = length(b,c)\n",
    "    s3 = length(c,a)\n",
    "    return s1, s2, s3\n",
    "\n",
    "def triangle_area(p0, p1, p2):\n",
    "    a,b,c = get_triangle_sides(p0, p1, p2)\n",
    "    s = (a + b + c)/2\n",
    "    T = sqrt(s*(s-a)*(s-b)*(s-c))\n",
    "    return T\n",
    "\n",
    "# Define the function for the area \n",
    "def compute_area(x):\n",
    "    # Area = 0.5 * (d1 *d2)\n",
    "    # where\n",
    "    means = mean(x, axis=0)\n",
    "\n",
    "    x = x - means\n",
    "\n",
    "    # Now calculate the 4 triangles\n",
    "    a1 = triangle_area([0,0], x[0], x[1])\n",
    "    a2 = triangle_area([0,0], x[1], x[2])\n",
    "    a3 = triangle_area([0,0], x[2], x[3])\n",
    "    a4 = triangle_area([0,0], x[3], x[0])\n",
    "\n",
    "    return  a1 + a2 + a3 + a4\n",
    "\n",
    "\n",
    "# Define the function for the perimeter \n",
    "def compute_perimeter(x):\n",
    "    # Perimeter = sum of the lengths of its sides\n",
    "    ret = 0\n",
    "    \n",
    "    for i in range(3):\n",
    "        for j in range(i+1,4):\n",
    "            l = length(x[i], x[j])**2\n",
    "            # print(f\"{i},{j} len = {l}\")\n",
    "            ret += l\n",
    "\n",
    "    return ret\n",
    "\n",
    "def loss(x):\n",
    "    perimeter = compute_perimeter(x)\n",
    "    area = compute_area(x)\n",
    "    dp = sqrt((area - 100)**2)\n",
    "    return dp - log(perimeter)"
   ]
  },
  {
   "cell_type": "code",
   "execution_count": 2,
>>>>>>> cd91c58 (cont....)
   "metadata": {},
   "outputs": [
    {
     "name": "stdout",
     "output_type": "stream",
     "text": [
<<<<<<< HEAD
      "Step 0: loss_history = -1.613047480583191\n",
      "Step 100: loss_history = -75.54415130615234\n",
      "Step 200: loss_history = -165.25042724609375\n",
      "Step 300: loss_history = -272.4236145019531\n",
      "Step 400: loss_history = -397.2742004394531\n",
      "Step 500: loss_history = -539.8086547851562\n",
      "Step 600: loss_history = -609.9346923828125\n",
      "Step 700: loss_history = -621.4909057617188\n",
      "Step 800: loss_history = -620.7418823242188\n",
      "Step 900: loss_history = -619.7544555664062\n",
      "Optimized Coordinates:\n",
      "Vertex 1: (-17.152851104736328, 17.521093368530273)\n",
      "Vertex 2: (-17.172231674194336, 17.527090072631836)\n",
      "Vertex 3: (17.930219650268555, -17.87075424194336)\n",
      "Vertex 4: (17.98978614807129, -17.957000732421875)\n",
      "Optimized Perimeter: 99.9137\n",
      "Optimized Area: 622.3597\n",
      "Theoretical maximum = 625\n"
=======
      "[[-0.70260051 -0.08079985]\n",
      " [ 0.0658238   0.40784431]\n",
      " [-1.4199386   0.45229594]\n",
      " [-0.12359437 -0.33226901]]\n",
      "[-0.54507742  0.11176785]\n",
      "[[-0.15752309 -0.19256769]\n",
      " [ 0.61090122  0.29607646]\n",
      " [-0.87486118  0.34052809]\n",
      " [ 0.42148306 -0.44403686]]\n",
      "[-0.70260051 -0.08079985]\n"
>>>>>>> cd91c58 (cont....)
     ]
    }
   ],
   "source": [
<<<<<<< HEAD
    "import torch\n",
    "import torch.optim as optim\n",
    "from torch.autograd import Variable\n",
    "import matplotlib.pyplot as plt\n",
    "\n",
    "# a quadrilateral has four corners (x1, y1), (x2, y2), (x3, y3), (x4, y4)\n",
    "# We want optimize the area of the quadrilateral while constraining the perimeter to 100 units\n",
=======
    "import numpy as np\n",
    "from numpy import sqrt, mean, log\n",
    "\n",
    "x = np.random.normal(size=(4,2))\n",
    "means = np.mean(x, axis=0)\n",
    "print(x)\n",
    "print(means)\n",
    "\n",
    "print(x - means)\n",
    "print(x[0])"
   ]
  },
  {
   "cell_type": "code",
   "execution_count": 3,
   "metadata": {},
   "outputs": [
    {
     "data": {
      "text/plain": [
       "0.4670548280558322"
      ]
     },
     "execution_count": 3,
     "metadata": {},
     "output_type": "execute_result"
    }
   ],
   "source": [
    "compute_area(x)\n",
    "\n"
   ]
  },
  {
   "cell_type": "code",
   "execution_count": 4,
   "metadata": {},
   "outputs": [
    {
     "data": {
      "text/plain": [
       "7.115662289429587"
      ]
     },
     "execution_count": 4,
     "metadata": {},
     "output_type": "execute_result"
    }
   ],
   "source": [
    "compute_perimeter(x)\n"
   ]
  },
  {
   "cell_type": "code",
   "execution_count": 5,
   "metadata": {},
   "outputs": [],
   "source": [
    "import torch\n",
    "from torch import sqrt, mean, log\n",
    "\n",
    "def minimize(function, initial_parameters, lr):\n",
    "    list_params = []\n",
    "    loss_history = []\n",
    "    params = initial_parameters.detach().clone()\n",
    "    params.requires_grad_()\n",
    "    optimizer = torch.optim.RMSprop([params], lr=lr)\n",
    "\n",
    "    for i in range(500):\n",
    "        optimizer.zero_grad()\n",
    "        loss = function(params)\n",
    "        loss.backward()\n",
    "        optimizer.step()\n",
    "        list_params.append(params.detach().clone()) #here\n",
    "        loss_history.append(loss.detach().clone()) #here\n",
    "        \n",
    "    return params.detach().clone(), list_params, loss_history\n"
   ]
  },
  {
   "cell_type": "code",
   "execution_count": 6,
   "metadata": {},
   "outputs": [
    {
     "data": {
      "text/plain": [
       "(tensor(824.7609), tensor(98.1517))"
      ]
     },
     "execution_count": 6,
     "metadata": {},
     "output_type": "execute_result"
    }
   ],
   "source": [
    "starting_point =  (torch.tensor([[-5,-5],[-5, 5],[5,5],[5, -5]]) + torch.randn((4,2)))\n",
    "\n",
    "minimized_params, list_of_params, loss_history = minimize(loss, starting_point, lr=0.0005)\n",
    "minimized_params\n",
    "perimeter = compute_perimeter(minimized_params)\n",
    "area = compute_area(minimized_params)\n",
    "perimeter, area\n"
   ]
  },
  {
   "cell_type": "code",
   "execution_count": 7,
   "metadata": {},
   "outputs": [
    {
     "data": {
      "text/plain": [
       "[<matplotlib.lines.Line2D at 0x17806d8d0>]"
      ]
     },
     "execution_count": 7,
     "metadata": {},
     "output_type": "execute_result"
    },
    {
     "data": {
      "image/png": "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",
      "text/plain": [
       "<Figure size 640x480 with 1 Axes>"
      ]
     },
     "metadata": {},
     "output_type": "display_data"
    }
   ],
   "source": [
    "import matplotlib.pyplot as plt\n",
    "\n",
    "plt.plot(loss_history)"
   ]
  },
  {
   "cell_type": "code",
   "execution_count": 8,
   "metadata": {},
   "outputs": [
    {
     "data": {
      "text/plain": [
       "[<matplotlib.lines.Line2D at 0x1781ebcd0>]"
      ]
     },
     "execution_count": 8,
     "metadata": {},
     "output_type": "execute_result"
    },
    {
     "data": {
      "image/png": "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",
      "text/plain": [
       "<Figure size 640x480 with 1 Axes>"
      ]
     },
     "metadata": {},
     "output_type": "display_data"
    }
   ],
   "source": [
    "x = minimized_params.detach().clone()\n",
>>>>>>> cd91c58 (cont....)
    "\n",
    "x1 = Variable(torch.randn(1), requires_grad=True)\n",
    "y1 = Variable(torch.randn(1), requires_grad=True)\n",
    "x2 = Variable(torch.randn(1), requires_grad=True)\n",
    "y2 = Variable(torch.randn(1), requires_grad=True)\n",
    "x3 = Variable(torch.randn(1), requires_grad=True)\n",
    "y3 = Variable(torch.randn(1), requires_grad=True)\n",
    "x4 = Variable(torch.randn(1), requires_grad=True)\n",
    "y4 = Variable(torch.randn(1), requires_grad=True)\n",
    "\n",
    "# Define the function for the area \n",
    "def compute_area(x1, y1, x2, y2, x3, y3, x4, y4):\n",
    "    # Area = 0.5 * (d1 *d2)\n",
    "    # where d1 = ((x1 - x3),(y1 - y3))\n",
    "    # where d2 = ((x2 - x4),(y2 - y4))    \n",
    "    return (0.5 * (torch.sqrt((x1 - x3)**2+(y1 - y3)**2))* 0.5 *(torch.sqrt((x2 - x4)**2+(y2 - y4)**2)))\n",
    "\n",
    "# Define the function for the perimeter \n",
    "def compute_perimeter(x1, y1, x2, y2, x3, y3, x4, y4):\n",
    "    # Perimeter = sum of the lengths of its sides\n",
    "    s1 = torch.sqrt((x2 - x1)**2 + (y2 - y1)**2)\n",
    "    s2 = torch.sqrt((x3 - x2)**2 + (y3 - y2)**2)\n",
    "    s3 = torch.sqrt((x4 - x3)**2 + (y4 - y3)**2)\n",
    "    s4 = torch.sqrt((x1 - x4)**2 + (y1 - y4)**2)\n",
    "    return s1 + s2 + s3 + s4\n",
    "\n",
    "# Define the optimizer (we are using stochastic gradient descent)\n",
    "optimizer = optim.RMSprop([x1, y1, x2, y2, x3, y3, x4, y4], lr=.02)\n",
    "\n",
    "#Adam\n",
    "#SGD\n",
    "\n",
    "# Number of steps in the optomisation\n",
    "steps = 1000\n",
    "\n",
    "# perimeter constraint...limmited to 100 units\n",
    "max_perimeter = 100\n",
    "\n",
    "#loss_history = [] #collecting the value of the loss function for each interation \n",
    "\n",
    "# Optimization loop\n",
    "for step in range(steps):\n",
    "    # Compute area\n",
    "    area = compute_area(x1, y1, x2, y2, x3, y3, x4, y4)\n",
    "    \n",
    "    # Compute perimeter\n",
    "    perimeter = compute_perimeter(x1, y1, x2, y2, x3, y3, x4, y4)\n",
    "    \n",
    "    # apply a penalty if peremter of 100 units is exceeded (not really confindent in this step and the next step)\n",
    "    perimeter_penalty = torch.max(torch.tensor(0.), ((perimeter)**2 - (max_perimeter)**2)) #hmmmm\n",
    "    \n",
    "    # loss function\n",
    "    loss = (-area + perimeter_penalty**1)  # hmmmm\n",
    "    \n",
    "    # Zero gradients\n",
    "    optimizer.zero_grad()\n",
    "    \n",
    "    # Compute gradients\n",
    "    loss.backward()\n",
    "    \n",
    "    # Update parameters\n",
    "    optimizer.step()\n",
    "\n",
    "    if step % 100 == 0:\n",
    "        print(f'Step {step}: loss_history = {loss.item()}') # Prints a value for loss function once every hundred iterations\n",
    "\n",
    "# optomised coords\n",
    "optimized_x1 = x1.item()\n",
    "optimized_y1 = y1.item()\n",
    "optimized_x2 = x2.item()\n",
    "optimized_y2 = y2.item()\n",
    "optimized_x3 = x3.item()\n",
    "optimized_y3 = y3.item()\n",
    "optimized_x4 = x4.item()\n",
    "optimized_y4 = y4.item()\n",
    "\n",
    "\n",
    "# Print the optimized coords, area and perimeter (should be a square)\n",
    "print(\"Optimized Coordinates:\")\n",
    "print(\"Vertex 1: ({}, {})\".format(optimized_x1, optimized_y1))\n",
    "print(\"Vertex 2: ({}, {})\".format(optimized_x2, optimized_y2))\n",
    "print(\"Vertex 3: ({}, {})\".format(optimized_x3, optimized_y3))\n",
    "print(\"Vertex 4: ({}, {})\".format(optimized_x4, optimized_y4))\n",
    "print(\"Optimized Perimeter: {:.4f}\".format(compute_perimeter(x1, y1, x2, y2, x3, y3, x4, y4).item()))\n",
    "print(\"Optimized Area: {:.4f}\".format(compute_area(x1, y1, x2, y2, x3, y3, x4, y4).item()))\n",
    "print(\"Theoretical maximum = 625\")\n",
    "\n"
   ]
<<<<<<< HEAD
=======
  },
  {
   "cell_type": "code",
   "execution_count": 9,
   "metadata": {},
   "outputs": [
    {
     "data": {
      "text/plain": [
       "[<matplotlib.lines.Line2D at 0x17823c690>]"
      ]
     },
     "execution_count": 9,
     "metadata": {},
     "output_type": "execute_result"
    },
    {
     "data": {
      "image/png": "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",
      "text/plain": [
       "<Figure size 640x480 with 1 Axes>"
      ]
     },
     "metadata": {},
     "output_type": "display_data"
    }
   ],
   "source": [
    "plt.plot(loss_history)"
   ]
  },
  {
   "cell_type": "code",
   "execution_count": null,
   "metadata": {},
   "outputs": [],
   "source": []
>>>>>>> cd91c58 (cont....)
  }
 ],
 "metadata": {
  "kernelspec": {
   "display_name": "base",
   "language": "python",
   "name": "python3"
  },
  "language_info": {
   "codemirror_mode": {
    "name": "ipython",
    "version": 3
   },
   "file_extension": ".py",
   "mimetype": "text/x-python",
   "name": "python",
   "nbconvert_exporter": "python",
   "pygments_lexer": "ipython3",
   "version": "3.11.5"
  }
 },
 "nbformat": 4,
 "nbformat_minor": 2
}

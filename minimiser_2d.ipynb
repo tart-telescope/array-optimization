{
 "cells": [
  {
   "cell_type": "code",
   "execution_count": 7,
   "metadata": {},
   "outputs": [
    {
     "name": "stdout",
     "output_type": "stream",
     "text": [
      "Step 0: x = tensor([4.6000, 1.6000]), f(x) = 8.0\n",
      "Step 100: x = tensor([3.0000e+00, 3.2593e-10]), f(x) = 2.2737383807355793e-13\n",
      "Step 200: x = tensor([3.0000e+00, 6.6392e-20]), f(x) = 2.2737367544323206e-13\n",
      "Step 300: x = tensor([3.0000e+00, 1.3524e-29]), f(x) = 2.2737367544323206e-13\n",
      "Step 400: x = tensor([3.0000e+00, 2.7550e-39]), f(x) = 2.2737367544323206e-13\n",
      "Step 500: x = tensor([3.0000e+00, 2.8026e-45]), f(x) = 2.2737367544323206e-13\n",
      "Step 600: x = tensor([3.0000e+00, 2.8026e-45]), f(x) = 2.2737367544323206e-13\n",
      "Step 700: x = tensor([3.0000e+00, 2.8026e-45]), f(x) = 2.2737367544323206e-13\n",
      "Step 800: x = tensor([3.0000e+00, 2.8026e-45]), f(x) = 2.2737367544323206e-13\n",
      "Step 900: x = tensor([3.0000e+00, 2.8026e-45]), f(x) = 2.2737367544323206e-13\n",
      "Step 1000: x = tensor([3.0000e+00, 2.8026e-45]), f(x) = 2.2737367544323206e-13\n",
      "Step 1100: x = tensor([3.0000e+00, 2.8026e-45]), f(x) = 2.2737367544323206e-13\n",
      "Step 1200: x = tensor([3.0000e+00, 2.8026e-45]), f(x) = 2.2737367544323206e-13\n",
      "Step 1300: x = tensor([3.0000e+00, 2.8026e-45]), f(x) = 2.2737367544323206e-13\n",
      "Step 1400: x = tensor([3.0000e+00, 2.8026e-45]), f(x) = 2.2737367544323206e-13\n",
      "Step 1500: x = tensor([3.0000e+00, 2.8026e-45]), f(x) = 2.2737367544323206e-13\n",
      "Step 1600: x = tensor([3.0000e+00, 2.8026e-45]), f(x) = 2.2737367544323206e-13\n",
      "Step 1700: x = tensor([3.0000e+00, 2.8026e-45]), f(x) = 2.2737367544323206e-13\n",
      "Step 1800: x = tensor([3.0000e+00, 2.8026e-45]), f(x) = 2.2737367544323206e-13\n",
      "Step 1900: x = tensor([3.0000e+00, 2.8026e-45]), f(x) = 2.2737367544323206e-13\n",
      "Optimization finished.\n",
      "Minimum found at x = tensor([3.0000e+00, 2.8026e-45]), f(x) = 2.2737367544323206e-13\n"
     ]
    }
   ],
   "source": [
    "\n",
    "import torch\n",
    "from torch.autograd import Variable\n",
    "import torch.optim as optim\n",
    "\n",
    "# Define the function to maximize\n",
    "def func(x):\n",
    "    return ((x[0] -3)**2 + x[1]**2)  # minimise: f(x, y) = (x-3)^2 +y^2=0\n",
    "\n",
    "\n",
    "# Initial guess for the minimum\n",
    "x = Variable(torch.tensor([5.0, 2.0]), requires_grad=True) \n",
    "\n",
    "# Define the optimizer\n",
    "optimizer = optim.SGD([x], lr=0.1)  # Using SGD optimizer with learning rate 0.1\n",
    "\n",
    "# Number of optimization steps\n",
    "num_steps = 2000\n",
    "\n",
    "# Optimization loop\n",
    "for step in range(num_steps):\n",
    "    optimizer.zero_grad()  # Clear previous gradients\n",
    "    \n",
    "    \n",
    "    output = func(x)\n",
    "\n",
    "    loss = func(x) #hmmmmm\n",
    "\n",
    "\n",
    "    loss.backward()\n",
    "\n",
    "    optimizer.step()  # Update parameters based on gradients\n",
    "\n",
    "    # Print progress\n",
    "    if step % 100 == 0:\n",
    "        print(f'Step {step}: x = {x.data}, f(x) = {output.item()}')\n",
    "\n",
    "print(\"Optimization finished.\")\n",
    "print(f'Minimum found at x = {x.data}, f(x) = {output.item()}')\n"
   ]
  }
 ],
 "metadata": {
  "kernelspec": {
   "display_name": "base",
   "language": "python",
   "name": "python3"
  },
  "language_info": {
   "codemirror_mode": {
    "name": "ipython",
    "version": 3
   },
   "file_extension": ".py",
   "mimetype": "text/x-python",
   "name": "python",
   "nbconvert_exporter": "python",
   "pygments_lexer": "ipython3",
   "version": "3.11.5"
  }
 },
 "nbformat": 4,
 "nbformat_minor": 2
}

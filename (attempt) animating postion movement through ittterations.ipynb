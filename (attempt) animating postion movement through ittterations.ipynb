{
 "cells": [
  {
   "cell_type": "code",
   "execution_count": 14,
   "metadata": {},
   "outputs": [],
   "source": [
    "import json\n",
    "import matplotlib.pyplot as plt\n",
    "import numpy as np\n",
    "from matplotlib.animation import FuncAnimation"
   ]
  },
  {
   "cell_type": "code",
   "execution_count": 15,
   "metadata": {},
   "outputs": [
    {
     "data": {
      "image/png": "[encoded data removed]",
      "text/plain": [
       "<Figure size 640x480 with 1 Axes>"
      ]
     },
     "metadata": {},
     "output_type": "display_data"
    }
   ],
   "source": [
    "\n",
    "\n",
    "# Load coordinates from JSON file\n",
    "filename = 'coordinates.json'\n",
    "with open(filename, 'r') as json_file:\n",
    "    coordinates = json.load(json_file)\n",
    "\n",
    "# Extract coordinates\n",
    "x1 = coordinates['x1']\n",
    "y1 = coordinates['y1']\n",
    "x2 = coordinates['x2']\n",
    "y2 = coordinates['y2']\n",
    "x3 = coordinates['x3']\n",
    "y3 = coordinates['y3']\n",
    "x4 = coordinates['x4']\n",
    "y4 = coordinates['y4']\n",
    "x5 = coordinates['x5']\n",
    "y5 = coordinates['y5']\n",
    "\n",
    "# Number of steps\n",
    "steps = len(x1)\n",
    "\n",
    "# Set up the figure and axis\n",
    "fig, ax = plt.subplots()\n",
    "ax.set_xlim(-15, 15)  # Adjust based on your data\n",
    "ax.set_ylim(-15, 15)  # Adjust based on your data\n",
    "\n",
    "# Initialize the plot\n",
    "line, = ax.plot([], [], 'o-', animated=True)\n",
    "\n",
    "# Animation function\n",
    "def update(frame):\n",
    "    line.set_data(\n",
    "        [x1[frame], x2[frame], x3[frame], x4[frame], x5[frame], x1[frame]],\n",
    "        [y1[frame], y2[frame], y3[frame], y4[frame], y5[frame], y1[frame]]\n",
    "    )\n",
    "    ax.set_title(f\"Frame {frame}\")\n",
    "    return line,\n",
    "\n",
    "# Create animation with adjustable playback speed\n",
    "ani = FuncAnimation(fig, update, frames=range(steps), blit=True, repeat=False, interval=2)  # Adjust interval for speed\n",
    "\n",
    "# Show the animation\n",
    "plt.show()\n",
    "\n",
    "# Optionally save the animation\n",
    "ani.save(\"polygon_animation.gif\", writer=\"pillow\",fps=2500)\n",
    "print(\"Animation has been saved as 'polygon_animation.gif'\")\n"
   ]
  }
 ],
 "metadata": {
  "kernelspec": {
   "display_name": "base",
   "language": "python",
   "name": "python3"
  },
  "language_info": {
   "codemirror_mode": {
    "name": "ipython",
    "version": 3
   },
   "file_extension": ".py",
   "mimetype": "text/x-python",
   "name": "python",
   "nbconvert_exporter": "python",
   "pygments_lexer": "ipython3",
   "version": "3.11.5"
  }
 },
 "nbformat": 4,
 "nbformat_minor": 2
}

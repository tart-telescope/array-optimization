{
 "cells": [
  {
   "cell_type": "code",
   "execution_count": 228,
   "metadata": {},
   "outputs": [],
   "source": [
    "import numpy as np\n",
    "import matplotlib.pyplot as plt\n",
    "import torch as torch\n",
    "import torch\n",
    "import matplotlib.pyplot as plt\n",
    "from torch.autograd import Variable\n",
    "import torch.optim as optim\n",
    "import torch\n",
    "import torch.optim as optim\n",
    "from torch.autograd import Variable\n",
    "import matplotlib.pyplot as plt\n",
    "from torch import sqrt\n",
    "import numpy as np\n",
    "from matplotlib.animation import FuncAnimation\n",
    "from IPython import display"
   ]
  },
  {
   "cell_type": "code",
   "execution_count": 229,
   "metadata": {},
   "outputs": [],
   "source": [
    "max_baseline=4\n",
    "nant=4\n",
    "width=256\n",
    "center_position=[128,128]\n"
   ]
  },
  {
   "cell_type": "code",
   "execution_count": 230,
   "metadata": {},
   "outputs": [],
   "source": [
    "\n",
    "\n",
    "x0 = Variable(torch.randn(1,dtype=torch.complex64)*max_baseline, requires_grad=True)\n",
    "y0 = Variable(torch.randn(1,dtype=torch.complex64)*max_baseline, requires_grad=True)\n",
    "x1 = Variable(torch.randn(1,dtype=torch.complex64)*max_baseline, requires_grad=True)\n",
    "y1 = Variable(torch.randn(1,dtype=torch.complex64)*max_baseline, requires_grad=True)\n",
    "x2 = Variable(torch.randn(1,dtype=torch.complex64)*max_baseline, requires_grad=True)\n",
    "y2 = Variable(torch.randn(1,dtype=torch.complex64)*max_baseline, requires_grad=True)\n",
    "x3 = Variable(torch.randn(1,dtype=torch.complex64)*max_baseline, requires_grad=True)\n",
    "y3 = Variable(torch.randn(1,dtype=torch.complex64)*max_baseline, requires_grad=True)\n"
   ]
  },
  {
   "cell_type": "code",
   "execution_count": 231,
   "metadata": {},
   "outputs": [],
   "source": [
    "\n",
    "\n",
    "its=100\n",
    "ratio=[]\n",
    "for step in range(its):\n",
    "\n",
    "    uvs = torch.zeros((width, width), dtype=torch.complex64)\n",
    "\n",
    "    baselines = [\n",
    "        [ant_pos[0][0] - ant_pos[1][0], ant_pos[0][1] - ant_pos[1][1]],\n",
    "        [ant_pos[0][0] - ant_pos[2][0], ant_pos[0][1] - ant_pos[2][1]],\n",
    "        [ant_pos[0][0] - ant_pos[3][0], ant_pos[0][1] - ant_pos[3][1]],\n",
    "        [ant_pos[1][0] - ant_pos[0][0], ant_pos[1][1] - ant_pos[0][1]],\n",
    "        [ant_pos[1][0] - ant_pos[2][0], ant_pos[1][1] - ant_pos[2][1]],\n",
    "        [ant_pos[1][0] - ant_pos[3][0], ant_pos[1][1] - ant_pos[3][1]],\n",
    "        [ant_pos[2][0] - ant_pos[0][0], ant_pos[2][1] - ant_pos[0][1]],\n",
    "        [ant_pos[2][0] - ant_pos[1][0], ant_pos[2][1] - ant_pos[1][1]],\n",
    "        [ant_pos[2][0] - ant_pos[3][0], ant_pos[2][1] - ant_pos[3][1]],\n",
    "        [ant_pos[3][0] - ant_pos[0][0], ant_pos[3][1] - ant_pos[0][1]],\n",
    "        [ant_pos[3][0] - ant_pos[1][0], ant_pos[3][1] - ant_pos[1][1]],\n",
    "        [ant_pos[3][0] - ant_pos[2][0], ant_pos[3][1] - ant_pos[2][1]],\n",
    "    ]\n",
    "\n",
    "    u_indices = [\n",
    "        int((baselines[0][0] + max_baseline) * width / (2 * max_baseline)),\n",
    "        int((baselines[1][0] + max_baseline) * width / (2 * max_baseline)),\n",
    "        int((baselines[2][0] + max_baseline) * width / (2 * max_baseline)),\n",
    "        int((baselines[3][0] + max_baseline) * width / (2 * max_baseline)),\n",
    "        int((baselines[4][0] + max_baseline) * width / (2 * max_baseline)),\n",
    "        int((baselines[5][0] + max_baseline) * width / (2 * max_baseline)),\n",
    "        int((baselines[6][0] + max_baseline) * width / (2 * max_baseline)),\n",
    "        int((baselines[7][0] + max_baseline) * width / (2 * max_baseline)),\n",
    "        int((baselines[8][0] + max_baseline) * width / (2 * max_baseline)),\n",
    "        int((baselines[9][0] + max_baseline) * width / (2 * max_baseline)),\n",
    "        int((baselines[10][0] + max_baseline) * width / (2 * max_baseline)),\n",
    "        int((baselines[11][0] + max_baseline) * width / (2 * max_baseline)),\n",
    "    ]\n",
    "\n",
    "    v_indices = [\n",
    "        int((baselines[0][1] + max_baseline) * width / (2 * max_baseline)),\n",
    "        int((baselines[1][1] + max_baseline) * width / (2 * max_baseline)),\n",
    "        int((baselines[2][1] + max_baseline) * width / (2 * max_baseline)),\n",
    "        int((baselines[3][1] + max_baseline) * width / (2 * max_baseline)),\n",
    "        int((baselines[4][1] + max_baseline) * width / (2 * max_baseline)),\n",
    "        int((baselines[5][1] + max_baseline) * width / (2 * max_baseline)),\n",
    "        int((baselines[6][1] + max_baseline) * width / (2 * max_baseline)),\n",
    "        int((baselines[7][1] + max_baseline) * width / (2 * max_baseline)),\n",
    "        int((baselines[8][1] + max_baseline) * width / (2 * max_baseline)),\n",
    "        int((baselines[9][1] + max_baseline) * width / (2 * max_baseline)),\n",
    "        int((baselines[10][1] + max_baseline) * width / (2 * max_baseline)),\n",
    "        int((baselines[11][1] + max_baseline) * width / (2 * max_baseline)),\n",
    "    ]\n",
    "\n",
    "\n",
    "    uvs[u_indices,v_indices]=1\n",
    "\n",
    "    sky_image = torch.fft.ifftshift(torch.fft.ifft2(torch.fft.fftshift(uvs)))\n",
    "\n",
    "    radius = 1  # Radius of the circular mask\n",
    "\n",
    "    # Create a circular mask\n",
    "    mask = torch.zeros((width, width), dtype=torch.bool, )\n",
    "    cy, cx = center_position\n",
    "    y, x = torch.meshgrid(torch.arange(width), torch.arange(width))\n",
    "    mask = (x - cx)**2 + (y - cy)**2 <= radius**2\n",
    "\n",
    "    masked_uv = sky_image * mask\n",
    "    outofmask=sky_image-masked_uv\n",
    "\n",
    "    nt_ratio=(torch.abs(torch.sum(torch.abs(outofmask))))/(torch.abs(torch.sum(torch.abs(masked_uv))))\n",
    "    ratio.append(nt_ratio)\n",
    "    \n",
    "    \n",
    "    ratio;\n"
   ]
  },
  {
   "cell_type": "code",
   "execution_count": 232,
   "metadata": {},
   "outputs": [
    {
     "data": {
      "text/plain": [
       "tensor(6137.8784)"
      ]
     },
     "execution_count": 232,
     "metadata": {},
     "output_type": "execute_result"
    }
   ],
   "source": [
    "nt_ratio"
   ]
  },
  {
   "cell_type": "code",
   "execution_count": 233,
   "metadata": {},
   "outputs": [
    {
     "ename": "IndentationError",
     "evalue": "unexpected indent (399721648.py, line 2)",
     "output_type": "error",
     "traceback": [
      "\u001b[0;36m  Cell \u001b[0;32mIn[233], line 2\u001b[0;36m\u001b[0m\n\u001b[0;31m    ratio=[]\u001b[0m\n\u001b[0m    ^\u001b[0m\n\u001b[0;31mIndentationError\u001b[0m\u001b[0;31m:\u001b[0m unexpected indent\n"
     ]
    }
   ],
   "source": [
    "its=100\n",
    "    ratio=[]\n",
    "    for step in range(its):\n",
    "\n",
    "    uvs = torch.zeros((width, width), dtype=torch.complex64)\n",
    "\n",
    "    baselines = [\n",
    "        [ant_pos[0][0] - ant_pos[1][0], ant_pos[0][1] - ant_pos[1][1]],\n",
    "        [ant_pos[0][0] - ant_pos[2][0], ant_pos[0][1] - ant_pos[2][1]],\n",
    "        [ant_pos[0][0] - ant_pos[3][0], ant_pos[0][1] - ant_pos[3][1]],\n",
    "        [ant_pos[1][0] - ant_pos[0][0], ant_pos[1][1] - ant_pos[0][1]],\n",
    "        [ant_pos[1][0] - ant_pos[2][0], ant_pos[1][1] - ant_pos[2][1]],\n",
    "        [ant_pos[1][0] - ant_pos[3][0], ant_pos[1][1] - ant_pos[3][1]],\n",
    "        [ant_pos[2][0] - ant_pos[0][0], ant_pos[2][1] - ant_pos[0][1]],\n",
    "        [ant_pos[2][0] - ant_pos[1][0], ant_pos[2][1] - ant_pos[1][1]],\n",
    "        [ant_pos[2][0] - ant_pos[3][0], ant_pos[2][1] - ant_pos[3][1]],\n",
    "        [ant_pos[3][0] - ant_pos[0][0], ant_pos[3][1] - ant_pos[0][1]],\n",
    "        [ant_pos[3][0] - ant_pos[1][0], ant_pos[3][1] - ant_pos[1][1]],\n",
    "        [ant_pos[3][0] - ant_pos[2][0], ant_pos[3][1] - ant_pos[2][1]],\n",
    "    ]\n",
    "\n",
    "    u_indices = [\n",
    "        int((baselines[0][0] + max_baseline) * width / (2 * max_baseline)),\n",
    "        int((baselines[1][0] + max_baseline) * width / (2 * max_baseline)),\n",
    "        int((baselines[2][0] + max_baseline) * width / (2 * max_baseline)),\n",
    "        int((baselines[3][0] + max_baseline) * width / (2 * max_baseline)),\n",
    "        int((baselines[4][0] + max_baseline) * width / (2 * max_baseline)),\n",
    "        int((baselines[5][0] + max_baseline) * width / (2 * max_baseline)),\n",
    "        int((baselines[6][0] + max_baseline) * width / (2 * max_baseline)),\n",
    "        int((baselines[7][0] + max_baseline) * width / (2 * max_baseline)),\n",
    "        int((baselines[8][0] + max_baseline) * width / (2 * max_baseline)),\n",
    "        int((baselines[9][0] + max_baseline) * width / (2 * max_baseline)),\n",
    "        int((baselines[10][0] + max_baseline) * width / (2 * max_baseline)),\n",
    "        int((baselines[11][0] + max_baseline) * width / (2 * max_baseline)),\n",
    "    ]\n",
    "\n",
    "    v_indices = [\n",
    "        int((baselines[0][1] + max_baseline) * width / (2 * max_baseline)),\n",
    "        int((baselines[1][1] + max_baseline) * width / (2 * max_baseline)),\n",
    "        int((baselines[2][1] + max_baseline) * width / (2 * max_baseline)),\n",
    "        int((baselines[3][1] + max_baseline) * width / (2 * max_baseline)),\n",
    "        int((baselines[4][1] + max_baseline) * width / (2 * max_baseline)),\n",
    "        int((baselines[5][1] + max_baseline) * width / (2 * max_baseline)),\n",
    "        int((baselines[6][1] + max_baseline) * width / (2 * max_baseline)),\n",
    "        int((baselines[7][1] + max_baseline) * width / (2 * max_baseline)),\n",
    "        int((baselines[8][1] + max_baseline) * width / (2 * max_baseline)),\n",
    "        int((baselines[9][1] + max_baseline) * width / (2 * max_baseline)),\n",
    "        int((baselines[10][1] + max_baseline) * width / (2 * max_baseline)),\n",
    "        int((baselines[11][1] + max_baseline) * width / (2 * max_baseline)),\n",
    "    ]\n",
    "\n",
    "\n",
    "    uvs[u_indices,v_indices]=1\n",
    "\n",
    "    sky_image = torch.fft.ifftshift(torch.fft.ifft2(torch.fft.fftshift(uvs)))\n",
    "\n",
    "    radius = 1  # Radius of the circular mask\n",
    "\n",
    "    # Create a circular mask\n",
    "    mask = torch.zeros((width, width), dtype=torch.bool, )\n",
    "    cy, cx = center_position\n",
    "    y, x = torch.meshgrid(torch.arange(width), torch.arange(width))\n",
    "    mask = (x - cx)**2 + (y - cy)**2 <= radius**2\n",
    "\n",
    "    masked_uv = sky_image * mask\n",
    "    outofmask=sky_image-masked_uv\n",
    "\n",
    "    nt_ratio=(torch.abs(torch.sum(torch.abs(outofmask))))/(torch.abs(torch.sum(torch.abs(masked_uv))))\n",
    "    ratio.append(nt_ratio)\n",
    "    \n",
    "    \n",
    "    ratio;"
   ]
  },
  {
   "cell_type": "code",
   "execution_count": null,
   "metadata": {},
   "outputs": [
    {
     "ename": "RuntimeError",
     "evalue": "a leaf Variable that requires grad is being used in an in-place operation.",
     "output_type": "error",
     "traceback": [
      "\u001b[0;31m---------------------------------------------------------------------------\u001b[0m",
      "\u001b[0;31mRuntimeError\u001b[0m                              Traceback (most recent call last)",
      "Cell \u001b[0;32mIn[222], line 55\u001b[0m\n\u001b[1;32m     24\u001b[0m u_indices \u001b[38;5;241m=\u001b[39m [\n\u001b[1;32m     25\u001b[0m     \u001b[38;5;28mint\u001b[39m((baselines[\u001b[38;5;241m0\u001b[39m][\u001b[38;5;241m0\u001b[39m] \u001b[38;5;241m+\u001b[39m max_baseline) \u001b[38;5;241m*\u001b[39m width \u001b[38;5;241m/\u001b[39m (\u001b[38;5;241m2\u001b[39m \u001b[38;5;241m*\u001b[39m max_baseline)),\n\u001b[1;32m     26\u001b[0m     \u001b[38;5;28mint\u001b[39m((baselines[\u001b[38;5;241m1\u001b[39m][\u001b[38;5;241m0\u001b[39m] \u001b[38;5;241m+\u001b[39m max_baseline) \u001b[38;5;241m*\u001b[39m width \u001b[38;5;241m/\u001b[39m (\u001b[38;5;241m2\u001b[39m \u001b[38;5;241m*\u001b[39m max_baseline)),\n\u001b[0;32m   (...)\u001b[0m\n\u001b[1;32m     36\u001b[0m     \u001b[38;5;28mint\u001b[39m((baselines[\u001b[38;5;241m11\u001b[39m][\u001b[38;5;241m0\u001b[39m] \u001b[38;5;241m+\u001b[39m max_baseline) \u001b[38;5;241m*\u001b[39m width \u001b[38;5;241m/\u001b[39m (\u001b[38;5;241m2\u001b[39m \u001b[38;5;241m*\u001b[39m max_baseline)),\n\u001b[1;32m     37\u001b[0m ]\n\u001b[1;32m     39\u001b[0m v_indices \u001b[38;5;241m=\u001b[39m [\n\u001b[1;32m     40\u001b[0m     \u001b[38;5;28mint\u001b[39m((baselines[\u001b[38;5;241m0\u001b[39m][\u001b[38;5;241m1\u001b[39m] \u001b[38;5;241m+\u001b[39m max_baseline) \u001b[38;5;241m*\u001b[39m width \u001b[38;5;241m/\u001b[39m (\u001b[38;5;241m2\u001b[39m \u001b[38;5;241m*\u001b[39m max_baseline)),\n\u001b[1;32m     41\u001b[0m     \u001b[38;5;28mint\u001b[39m((baselines[\u001b[38;5;241m1\u001b[39m][\u001b[38;5;241m1\u001b[39m] \u001b[38;5;241m+\u001b[39m max_baseline) \u001b[38;5;241m*\u001b[39m width \u001b[38;5;241m/\u001b[39m (\u001b[38;5;241m2\u001b[39m \u001b[38;5;241m*\u001b[39m max_baseline)),\n\u001b[0;32m   (...)\u001b[0m\n\u001b[1;32m     51\u001b[0m     \u001b[38;5;28mint\u001b[39m((baselines[\u001b[38;5;241m11\u001b[39m][\u001b[38;5;241m1\u001b[39m] \u001b[38;5;241m+\u001b[39m max_baseline) \u001b[38;5;241m*\u001b[39m width \u001b[38;5;241m/\u001b[39m (\u001b[38;5;241m2\u001b[39m \u001b[38;5;241m*\u001b[39m max_baseline)),\n\u001b[1;32m     52\u001b[0m ]\n\u001b[0;32m---> 55\u001b[0m uvs[u_indices,v_indices]\u001b[38;5;241m=\u001b[39m\u001b[38;5;241m1\u001b[39m\n\u001b[1;32m     57\u001b[0m mask_h \u001b[38;5;241m=\u001b[39m torch\u001b[38;5;241m.\u001b[39mzeros_like(uvs, dtype\u001b[38;5;241m=\u001b[39mtorch\u001b[38;5;241m.\u001b[39mcomplex64)\n\u001b[1;32m     58\u001b[0m mask_h[u_indices, v_indices] \u001b[38;5;241m=\u001b[39m \u001b[38;5;241m1\u001b[39m\n",
      "\u001b[0;31mRuntimeError\u001b[0m: a leaf Variable that requires grad is being used in an in-place operation."
     ]
    }
   ],
   "source": [
    "\n",
    "\n",
    "\n",
    "\n",
    "\n",
    "\n",
    "# Optimization loop\n",
    "for step in range(steps):\n",
    "    # Compute area\n",
    "\n",
    "    # Create the tensor\n",
    "    sky = torch.zeros((width, width), dtype=torch.complex64, requires_grad=True)\n",
    "    uvs = torch.zeros((width, width), dtype=torch.complex64, requires_grad=True)\n",
    "\n",
    "    baselines = [\n",
    "        [ant_pos[0][0] - ant_pos[1][0], ant_pos[0][1] - ant_pos[1][1]],\n",
    "        [ant_pos[0][0] - ant_pos[2][0], ant_pos[0][1] - ant_pos[2][1]],\n",
    "        [ant_pos[0][0] - ant_pos[3][0], ant_pos[0][1] - ant_pos[3][1]],\n",
    "        [ant_pos[1][0] - ant_pos[0][0], ant_pos[1][1] - ant_pos[0][1]],\n",
    "        [ant_pos[1][0] - ant_pos[2][0], ant_pos[1][1] - ant_pos[2][1]],\n",
    "        [ant_pos[1][0] - ant_pos[3][0], ant_pos[1][1] - ant_pos[3][1]],\n",
    "        [ant_pos[2][0] - ant_pos[0][0], ant_pos[2][1] - ant_pos[0][1]],\n",
    "        [ant_pos[2][0] - ant_pos[1][0], ant_pos[2][1] - ant_pos[1][1]],\n",
    "        [ant_pos[2][0] - ant_pos[3][0], ant_pos[2][1] - ant_pos[3][1]],\n",
    "        [ant_pos[3][0] - ant_pos[0][0], ant_pos[3][1] - ant_pos[0][1]],\n",
    "        [ant_pos[3][0] - ant_pos[1][0], ant_pos[3][1] - ant_pos[1][1]],\n",
    "        [ant_pos[3][0] - ant_pos[2][0], ant_pos[3][1] - ant_pos[2][1]],\n",
    "    ]\n",
    "\n",
    "    u_indices = [\n",
    "        int((baselines[0][0] + max_baseline) * width / (2 * max_baseline)),\n",
    "        int((baselines[1][0] + max_baseline) * width / (2 * max_baseline)),\n",
    "        int((baselines[2][0] + max_baseline) * width / (2 * max_baseline)),\n",
    "        int((baselines[3][0] + max_baseline) * width / (2 * max_baseline)),\n",
    "        int((baselines[4][0] + max_baseline) * width / (2 * max_baseline)),\n",
    "        int((baselines[5][0] + max_baseline) * width / (2 * max_baseline)),\n",
    "        int((baselines[6][0] + max_baseline) * width / (2 * max_baseline)),\n",
    "        int((baselines[7][0] + max_baseline) * width / (2 * max_baseline)),\n",
    "        int((baselines[8][0] + max_baseline) * width / (2 * max_baseline)),\n",
    "        int((baselines[9][0] + max_baseline) * width / (2 * max_baseline)),\n",
    "        int((baselines[10][0] + max_baseline) * width / (2 * max_baseline)),\n",
    "        int((baselines[11][0] + max_baseline) * width / (2 * max_baseline)),\n",
    "    ]\n",
    "\n",
    "    v_indices = [\n",
    "        int((baselines[0][1] + max_baseline) * width / (2 * max_baseline)),\n",
    "        int((baselines[1][1] + max_baseline) * width / (2 * max_baseline)),\n",
    "        int((baselines[2][1] + max_baseline) * width / (2 * max_baseline)),\n",
    "        int((baselines[3][1] + max_baseline) * width / (2 * max_baseline)),\n",
    "        int((baselines[4][1] + max_baseline) * width / (2 * max_baseline)),\n",
    "        int((baselines[5][1] + max_baseline) * width / (2 * max_baseline)),\n",
    "        int((baselines[6][1] + max_baseline) * width / (2 * max_baseline)),\n",
    "        int((baselines[7][1] + max_baseline) * width / (2 * max_baseline)),\n",
    "        int((baselines[8][1] + max_baseline) * width / (2 * max_baseline)),\n",
    "        int((baselines[9][1] + max_baseline) * width / (2 * max_baseline)),\n",
    "        int((baselines[10][1] + max_baseline) * width / (2 * max_baseline)),\n",
    "        int((baselines[11][1] + max_baseline) * width / (2 * max_baseline)),\n",
    "    ]\n",
    "\n",
    "\n",
    "    uvs[u_indices,v_indices]=1\n",
    "\n",
    "    mask_h = torch.zeros_like(uvs, dtype=torch.complex64)\n",
    "    mask_h[u_indices, v_indices] = 1\n",
    "    uvs_updated = uvs + mask_h\n",
    "\n",
    "    sky_image = torch.fft.ifftshift(torch.fft.ifft2(torch.fft.fftshift(uvs_updated)))\n",
    "\n",
    "\n",
    "    radius = 1  # Radius of the circular mask\n",
    "\n",
    "    # Create a circular mask\n",
    "    mask = torch.ones((width, width), dtype=torch.complex64)\n",
    "    cy, cx = center_position\n",
    "    y, x = torch.meshgrid(torch.arange(width), torch.arange(width))\n",
    "    mask = (x - cx)**2 + (y - cy)**2 <= radius**2\n",
    "\n",
    "    masked_uv = sky_image * mask\n",
    "    outofmask=sky_image-masked_uv\n",
    "\n",
    "    nt_ratio=(torch.abs(torch.sum(torch.abs(outofmask))))/(torch.abs(torch.sum(torch.abs(masked_uv))))\n",
    "\n",
    "    loss = -(nt_ratio)\n",
    "    \n",
    "    \n",
    "    # Zero gradients\n",
    "    optimizer.zero_grad()\n",
    "    \n",
    "    # Compute gradients\n",
    "    loss.backward()\n",
    "    \n",
    "    # Update parameters\n",
    "    optimizer.step()\n",
    "\n",
    "    loss_history.append(loss.item())\n",
    "\n",
    "    if step % 100 == 0:\n",
    "        print(f'Step {step}: loss_history = {loss.item()}') # Prints a value for loss function once every hundred iterations\n",
    "\n",
    "\n",
    "    \n",
    "\n"
   ]
  },
  {
   "cell_type": "code",
   "execution_count": null,
   "metadata": {},
   "outputs": [
    {
     "data": {
      "text/plain": [
       "tensor(3479.2715, grad_fn=<DivBackward0>)"
      ]
     },
     "execution_count": 102,
     "metadata": {},
     "output_type": "execute_result"
    }
   ],
   "source": [
    "nt_ratio"
   ]
  },
  {
   "cell_type": "code",
   "execution_count": null,
   "metadata": {},
   "outputs": [
    {
     "data": {
      "text/plain": [
       "False"
      ]
     },
     "execution_count": 254,
     "metadata": {},
     "output_type": "execute_result"
    }
   ],
   "source": [
    "uvs_updated.is_leaf"
   ]
  },
  {
   "cell_type": "code",
   "execution_count": null,
   "metadata": {},
   "outputs": [
    {
     "name": "stdout",
     "output_type": "stream",
     "text": [
      "sky_image requires_grad: True\n",
      "sky_image grad_fn: <AddBackward0 object at 0x28c70f8e0>\n"
     ]
    }
   ],
   "source": [
    "print(\"sky_image requires_grad:\", uvs_updated.requires_grad)  # Should be True\n",
    "print(\"sky_image grad_fn:\", uvs_updated.grad_fn)"
   ]
  },
  {
   "cell_type": "code",
   "execution_count": null,
   "metadata": {},
   "outputs": [
    {
     "data": {
      "text/plain": [
       "tensor(-10346.1709, grad_fn=<NegBackward0>)"
      ]
     },
     "execution_count": 256,
     "metadata": {},
     "output_type": "execute_result"
    }
   ],
   "source": [
    "loss"
   ]
  },
  {
   "cell_type": "code",
   "execution_count": null,
   "metadata": {},
   "outputs": [
    {
     "data": {
      "text/plain": [
       "tensor([0.4010], requires_grad=True)"
      ]
     },
     "execution_count": 257,
     "metadata": {},
     "output_type": "execute_result"
    }
   ],
   "source": [
    "s"
   ]
  },
  {
   "cell_type": "code",
   "execution_count": null,
   "metadata": {},
   "outputs": [
    {
     "name": "stdout",
     "output_type": "stream",
     "text": [
      "None\n"
     ]
    },
    {
     "name": "stderr",
     "output_type": "stream",
     "text": [
      "/var/folders/3l/010grc4n2y9f8dnbqyp20m0w0000gn/T/ipykernel_52511/2657634666.py:1: UserWarning: The .grad attribute of a Tensor that is not a leaf Tensor is being accessed. Its .grad attribute won't be populated during autograd.backward(). If you indeed want the .grad field to be populated for a non-leaf Tensor, use .retain_grad() on the non-leaf Tensor. If you access the non-leaf Tensor by mistake, make sure you access the leaf Tensor instead. See github.com/pytorch/pytorch/pull/30531 for more informations. (Triggered internally at /Users/runner/work/pytorch/pytorch/pytorch/build/aten/src/ATen/core/TensorBody.h:494.)\n",
      "  print(loss.grad)\n"
     ]
    }
   ],
   "source": [
    "print(loss.grad)"
   ]
  },
  {
   "cell_type": "code",
   "execution_count": null,
   "metadata": {},
   "outputs": [
    {
     "name": "stdout",
     "output_type": "stream",
     "text": [
      "None\n"
     ]
    },
    {
     "name": "stderr",
     "output_type": "stream",
     "text": [
      "/var/folders/3l/010grc4n2y9f8dnbqyp20m0w0000gn/T/ipykernel_52511/2657634666.py:1: UserWarning: The .grad attribute of a Tensor that is not a leaf Tensor is being accessed. Its .grad attribute won't be populated during autograd.backward(). If you indeed want the .grad field to be populated for a non-leaf Tensor, use .retain_grad() on the non-leaf Tensor. If you access the non-leaf Tensor by mistake, make sure you access the leaf Tensor instead. See github.com/pytorch/pytorch/pull/30531 for more informations. (Triggered internally at /Users/runner/work/pytorch/pytorch/pytorch/build/aten/src/ATen/core/TensorBody.h:494.)\n",
      "  print(loss.grad)\n"
     ]
    }
   ],
   "source": [
    "print(loss.grad)"
   ]
  },
  {
   "cell_type": "code",
   "execution_count": null,
   "metadata": {},
   "outputs": [
    {
     "data": {
      "text/plain": [
       "tensor(True)"
      ]
     },
     "execution_count": 260,
     "metadata": {},
     "output_type": "execute_result"
    }
   ],
   "source": [
    "mask[128,128]"
   ]
  },
  {
   "cell_type": "code",
   "execution_count": null,
   "metadata": {},
   "outputs": [
    {
     "data": {
      "text/plain": [
       "tensor(10346.1709, grad_fn=<DivBackward0>)"
      ]
     },
     "execution_count": 261,
     "metadata": {},
     "output_type": "execute_result"
    }
   ],
   "source": [
    "nt_ratio"
   ]
  },
  {
   "cell_type": "code",
   "execution_count": null,
   "metadata": {},
   "outputs": [
    {
     "ename": "RuntimeError",
     "evalue": "Can't call numpy() on Tensor that requires grad. Use tensor.detach().numpy() instead.",
     "output_type": "error",
     "traceback": [
      "\u001b[0;31m---------------------------------------------------------------------------\u001b[0m",
      "\u001b[0;31mRuntimeError\u001b[0m                              Traceback (most recent call last)",
      "Cell \u001b[0;32mIn[262], line 2\u001b[0m\n\u001b[1;32m      1\u001b[0m images \u001b[38;5;241m=\u001b[39m (torch\u001b[38;5;241m.\u001b[39mabs(sky_image))\n\u001b[0;32m----> 2\u001b[0m plt\u001b[38;5;241m.\u001b[39mimshow(images)\n\u001b[1;32m      3\u001b[0m plt\u001b[38;5;241m.\u001b[39mshow()\n",
      "File \u001b[0;32m~/anaconda3/lib/python3.11/site-packages/matplotlib/pyplot.py:2695\u001b[0m, in \u001b[0;36mimshow\u001b[0;34m(X, cmap, norm, aspect, interpolation, alpha, vmin, vmax, origin, extent, interpolation_stage, filternorm, filterrad, resample, url, data, **kwargs)\u001b[0m\n\u001b[1;32m   2689\u001b[0m \u001b[38;5;129m@_copy_docstring_and_deprecators\u001b[39m(Axes\u001b[38;5;241m.\u001b[39mimshow)\n\u001b[1;32m   2690\u001b[0m \u001b[38;5;28;01mdef\u001b[39;00m \u001b[38;5;21mimshow\u001b[39m(\n\u001b[1;32m   2691\u001b[0m         X, cmap\u001b[38;5;241m=\u001b[39m\u001b[38;5;28;01mNone\u001b[39;00m, norm\u001b[38;5;241m=\u001b[39m\u001b[38;5;28;01mNone\u001b[39;00m, \u001b[38;5;241m*\u001b[39m, aspect\u001b[38;5;241m=\u001b[39m\u001b[38;5;28;01mNone\u001b[39;00m, interpolation\u001b[38;5;241m=\u001b[39m\u001b[38;5;28;01mNone\u001b[39;00m,\n\u001b[1;32m   2692\u001b[0m         alpha\u001b[38;5;241m=\u001b[39m\u001b[38;5;28;01mNone\u001b[39;00m, vmin\u001b[38;5;241m=\u001b[39m\u001b[38;5;28;01mNone\u001b[39;00m, vmax\u001b[38;5;241m=\u001b[39m\u001b[38;5;28;01mNone\u001b[39;00m, origin\u001b[38;5;241m=\u001b[39m\u001b[38;5;28;01mNone\u001b[39;00m, extent\u001b[38;5;241m=\u001b[39m\u001b[38;5;28;01mNone\u001b[39;00m,\n\u001b[1;32m   2693\u001b[0m         interpolation_stage\u001b[38;5;241m=\u001b[39m\u001b[38;5;28;01mNone\u001b[39;00m, filternorm\u001b[38;5;241m=\u001b[39m\u001b[38;5;28;01mTrue\u001b[39;00m, filterrad\u001b[38;5;241m=\u001b[39m\u001b[38;5;241m4.0\u001b[39m,\n\u001b[1;32m   2694\u001b[0m         resample\u001b[38;5;241m=\u001b[39m\u001b[38;5;28;01mNone\u001b[39;00m, url\u001b[38;5;241m=\u001b[39m\u001b[38;5;28;01mNone\u001b[39;00m, data\u001b[38;5;241m=\u001b[39m\u001b[38;5;28;01mNone\u001b[39;00m, \u001b[38;5;241m*\u001b[39m\u001b[38;5;241m*\u001b[39mkwargs):\n\u001b[0;32m-> 2695\u001b[0m     __ret \u001b[38;5;241m=\u001b[39m gca()\u001b[38;5;241m.\u001b[39mimshow(\n\u001b[1;32m   2696\u001b[0m         X, cmap\u001b[38;5;241m=\u001b[39mcmap, norm\u001b[38;5;241m=\u001b[39mnorm, aspect\u001b[38;5;241m=\u001b[39maspect,\n\u001b[1;32m   2697\u001b[0m         interpolation\u001b[38;5;241m=\u001b[39minterpolation, alpha\u001b[38;5;241m=\u001b[39malpha, vmin\u001b[38;5;241m=\u001b[39mvmin,\n\u001b[1;32m   2698\u001b[0m         vmax\u001b[38;5;241m=\u001b[39mvmax, origin\u001b[38;5;241m=\u001b[39morigin, extent\u001b[38;5;241m=\u001b[39mextent,\n\u001b[1;32m   2699\u001b[0m         interpolation_stage\u001b[38;5;241m=\u001b[39minterpolation_stage,\n\u001b[1;32m   2700\u001b[0m         filternorm\u001b[38;5;241m=\u001b[39mfilternorm, filterrad\u001b[38;5;241m=\u001b[39mfilterrad, resample\u001b[38;5;241m=\u001b[39mresample,\n\u001b[1;32m   2701\u001b[0m         url\u001b[38;5;241m=\u001b[39murl, \u001b[38;5;241m*\u001b[39m\u001b[38;5;241m*\u001b[39m({\u001b[38;5;124m\"\u001b[39m\u001b[38;5;124mdata\u001b[39m\u001b[38;5;124m\"\u001b[39m: data} \u001b[38;5;28;01mif\u001b[39;00m data \u001b[38;5;129;01mis\u001b[39;00m \u001b[38;5;129;01mnot\u001b[39;00m \u001b[38;5;28;01mNone\u001b[39;00m \u001b[38;5;28;01melse\u001b[39;00m {}),\n\u001b[1;32m   2702\u001b[0m         \u001b[38;5;241m*\u001b[39m\u001b[38;5;241m*\u001b[39mkwargs)\n\u001b[1;32m   2703\u001b[0m     sci(__ret)\n\u001b[1;32m   2704\u001b[0m     \u001b[38;5;28;01mreturn\u001b[39;00m __ret\n",
      "File \u001b[0;32m~/anaconda3/lib/python3.11/site-packages/matplotlib/__init__.py:1446\u001b[0m, in \u001b[0;36m_preprocess_data.<locals>.inner\u001b[0;34m(ax, data, *args, **kwargs)\u001b[0m\n\u001b[1;32m   1443\u001b[0m \u001b[38;5;129m@functools\u001b[39m\u001b[38;5;241m.\u001b[39mwraps(func)\n\u001b[1;32m   1444\u001b[0m \u001b[38;5;28;01mdef\u001b[39;00m \u001b[38;5;21minner\u001b[39m(ax, \u001b[38;5;241m*\u001b[39margs, data\u001b[38;5;241m=\u001b[39m\u001b[38;5;28;01mNone\u001b[39;00m, \u001b[38;5;241m*\u001b[39m\u001b[38;5;241m*\u001b[39mkwargs):\n\u001b[1;32m   1445\u001b[0m     \u001b[38;5;28;01mif\u001b[39;00m data \u001b[38;5;129;01mis\u001b[39;00m \u001b[38;5;28;01mNone\u001b[39;00m:\n\u001b[0;32m-> 1446\u001b[0m         \u001b[38;5;28;01mreturn\u001b[39;00m func(ax, \u001b[38;5;241m*\u001b[39m\u001b[38;5;28mmap\u001b[39m(sanitize_sequence, args), \u001b[38;5;241m*\u001b[39m\u001b[38;5;241m*\u001b[39mkwargs)\n\u001b[1;32m   1448\u001b[0m     bound \u001b[38;5;241m=\u001b[39m new_sig\u001b[38;5;241m.\u001b[39mbind(ax, \u001b[38;5;241m*\u001b[39margs, \u001b[38;5;241m*\u001b[39m\u001b[38;5;241m*\u001b[39mkwargs)\n\u001b[1;32m   1449\u001b[0m     auto_label \u001b[38;5;241m=\u001b[39m (bound\u001b[38;5;241m.\u001b[39marguments\u001b[38;5;241m.\u001b[39mget(label_namer)\n\u001b[1;32m   1450\u001b[0m                   \u001b[38;5;129;01mor\u001b[39;00m bound\u001b[38;5;241m.\u001b[39mkwargs\u001b[38;5;241m.\u001b[39mget(label_namer))\n",
      "File \u001b[0;32m~/anaconda3/lib/python3.11/site-packages/matplotlib/axes/_axes.py:5663\u001b[0m, in \u001b[0;36mAxes.imshow\u001b[0;34m(self, X, cmap, norm, aspect, interpolation, alpha, vmin, vmax, origin, extent, interpolation_stage, filternorm, filterrad, resample, url, **kwargs)\u001b[0m\n\u001b[1;32m   5655\u001b[0m \u001b[38;5;28mself\u001b[39m\u001b[38;5;241m.\u001b[39mset_aspect(aspect)\n\u001b[1;32m   5656\u001b[0m im \u001b[38;5;241m=\u001b[39m mimage\u001b[38;5;241m.\u001b[39mAxesImage(\u001b[38;5;28mself\u001b[39m, cmap\u001b[38;5;241m=\u001b[39mcmap, norm\u001b[38;5;241m=\u001b[39mnorm,\n\u001b[1;32m   5657\u001b[0m                       interpolation\u001b[38;5;241m=\u001b[39minterpolation, origin\u001b[38;5;241m=\u001b[39morigin,\n\u001b[1;32m   5658\u001b[0m                       extent\u001b[38;5;241m=\u001b[39mextent, filternorm\u001b[38;5;241m=\u001b[39mfilternorm,\n\u001b[1;32m   5659\u001b[0m                       filterrad\u001b[38;5;241m=\u001b[39mfilterrad, resample\u001b[38;5;241m=\u001b[39mresample,\n\u001b[1;32m   5660\u001b[0m                       interpolation_stage\u001b[38;5;241m=\u001b[39minterpolation_stage,\n\u001b[1;32m   5661\u001b[0m                       \u001b[38;5;241m*\u001b[39m\u001b[38;5;241m*\u001b[39mkwargs)\n\u001b[0;32m-> 5663\u001b[0m im\u001b[38;5;241m.\u001b[39mset_data(X)\n\u001b[1;32m   5664\u001b[0m im\u001b[38;5;241m.\u001b[39mset_alpha(alpha)\n\u001b[1;32m   5665\u001b[0m \u001b[38;5;28;01mif\u001b[39;00m im\u001b[38;5;241m.\u001b[39mget_clip_path() \u001b[38;5;129;01mis\u001b[39;00m \u001b[38;5;28;01mNone\u001b[39;00m:\n\u001b[1;32m   5666\u001b[0m     \u001b[38;5;66;03m# image does not already have clipping set, clip to axes patch\u001b[39;00m\n",
      "File \u001b[0;32m~/anaconda3/lib/python3.11/site-packages/matplotlib/image.py:697\u001b[0m, in \u001b[0;36m_ImageBase.set_data\u001b[0;34m(self, A)\u001b[0m\n\u001b[1;32m    695\u001b[0m \u001b[38;5;28;01mif\u001b[39;00m \u001b[38;5;28misinstance\u001b[39m(A, PIL\u001b[38;5;241m.\u001b[39mImage\u001b[38;5;241m.\u001b[39mImage):\n\u001b[1;32m    696\u001b[0m     A \u001b[38;5;241m=\u001b[39m pil_to_array(A)  \u001b[38;5;66;03m# Needed e.g. to apply png palette.\u001b[39;00m\n\u001b[0;32m--> 697\u001b[0m \u001b[38;5;28mself\u001b[39m\u001b[38;5;241m.\u001b[39m_A \u001b[38;5;241m=\u001b[39m cbook\u001b[38;5;241m.\u001b[39msafe_masked_invalid(A, copy\u001b[38;5;241m=\u001b[39m\u001b[38;5;28;01mTrue\u001b[39;00m)\n\u001b[1;32m    699\u001b[0m \u001b[38;5;28;01mif\u001b[39;00m (\u001b[38;5;28mself\u001b[39m\u001b[38;5;241m.\u001b[39m_A\u001b[38;5;241m.\u001b[39mdtype \u001b[38;5;241m!=\u001b[39m np\u001b[38;5;241m.\u001b[39muint8 \u001b[38;5;129;01mand\u001b[39;00m\n\u001b[1;32m    700\u001b[0m         \u001b[38;5;129;01mnot\u001b[39;00m np\u001b[38;5;241m.\u001b[39mcan_cast(\u001b[38;5;28mself\u001b[39m\u001b[38;5;241m.\u001b[39m_A\u001b[38;5;241m.\u001b[39mdtype, \u001b[38;5;28mfloat\u001b[39m, \u001b[38;5;124m\"\u001b[39m\u001b[38;5;124msame_kind\u001b[39m\u001b[38;5;124m\"\u001b[39m)):\n\u001b[1;32m    701\u001b[0m     \u001b[38;5;28;01mraise\u001b[39;00m \u001b[38;5;167;01mTypeError\u001b[39;00m(\u001b[38;5;124m\"\u001b[39m\u001b[38;5;124mImage data of dtype \u001b[39m\u001b[38;5;132;01m{}\u001b[39;00m\u001b[38;5;124m cannot be converted to \u001b[39m\u001b[38;5;124m\"\u001b[39m\n\u001b[1;32m    702\u001b[0m                     \u001b[38;5;124m\"\u001b[39m\u001b[38;5;124mfloat\u001b[39m\u001b[38;5;124m\"\u001b[39m\u001b[38;5;241m.\u001b[39mformat(\u001b[38;5;28mself\u001b[39m\u001b[38;5;241m.\u001b[39m_A\u001b[38;5;241m.\u001b[39mdtype))\n",
      "File \u001b[0;32m~/anaconda3/lib/python3.11/site-packages/matplotlib/cbook/__init__.py:714\u001b[0m, in \u001b[0;36msafe_masked_invalid\u001b[0;34m(x, copy)\u001b[0m\n\u001b[1;32m    713\u001b[0m \u001b[38;5;28;01mdef\u001b[39;00m \u001b[38;5;21msafe_masked_invalid\u001b[39m(x, copy\u001b[38;5;241m=\u001b[39m\u001b[38;5;28;01mFalse\u001b[39;00m):\n\u001b[0;32m--> 714\u001b[0m     x \u001b[38;5;241m=\u001b[39m np\u001b[38;5;241m.\u001b[39marray(x, subok\u001b[38;5;241m=\u001b[39m\u001b[38;5;28;01mTrue\u001b[39;00m, copy\u001b[38;5;241m=\u001b[39mcopy)\n\u001b[1;32m    715\u001b[0m     \u001b[38;5;28;01mif\u001b[39;00m \u001b[38;5;129;01mnot\u001b[39;00m x\u001b[38;5;241m.\u001b[39mdtype\u001b[38;5;241m.\u001b[39misnative:\n\u001b[1;32m    716\u001b[0m         \u001b[38;5;66;03m# If we have already made a copy, do the byteswap in place, else make a\u001b[39;00m\n\u001b[1;32m    717\u001b[0m         \u001b[38;5;66;03m# copy with the byte order swapped.\u001b[39;00m\n\u001b[1;32m    718\u001b[0m         x \u001b[38;5;241m=\u001b[39m x\u001b[38;5;241m.\u001b[39mbyteswap(inplace\u001b[38;5;241m=\u001b[39mcopy)\u001b[38;5;241m.\u001b[39mnewbyteorder(\u001b[38;5;124m'\u001b[39m\u001b[38;5;124mN\u001b[39m\u001b[38;5;124m'\u001b[39m)  \u001b[38;5;66;03m# Swap to native order.\u001b[39;00m\n",
      "File \u001b[0;32m~/anaconda3/lib/python3.11/site-packages/torch/_tensor.py:1062\u001b[0m, in \u001b[0;36mTensor.__array__\u001b[0;34m(self, dtype)\u001b[0m\n\u001b[1;32m   1060\u001b[0m     \u001b[38;5;28;01mreturn\u001b[39;00m handle_torch_function(Tensor\u001b[38;5;241m.\u001b[39m__array__, (\u001b[38;5;28mself\u001b[39m,), \u001b[38;5;28mself\u001b[39m, dtype\u001b[38;5;241m=\u001b[39mdtype)\n\u001b[1;32m   1061\u001b[0m \u001b[38;5;28;01mif\u001b[39;00m dtype \u001b[38;5;129;01mis\u001b[39;00m \u001b[38;5;28;01mNone\u001b[39;00m:\n\u001b[0;32m-> 1062\u001b[0m     \u001b[38;5;28;01mreturn\u001b[39;00m \u001b[38;5;28mself\u001b[39m\u001b[38;5;241m.\u001b[39mnumpy()\n\u001b[1;32m   1063\u001b[0m \u001b[38;5;28;01melse\u001b[39;00m:\n\u001b[1;32m   1064\u001b[0m     \u001b[38;5;28;01mreturn\u001b[39;00m \u001b[38;5;28mself\u001b[39m\u001b[38;5;241m.\u001b[39mnumpy()\u001b[38;5;241m.\u001b[39mastype(dtype, copy\u001b[38;5;241m=\u001b[39m\u001b[38;5;28;01mFalse\u001b[39;00m)\n",
      "\u001b[0;31mRuntimeError\u001b[0m: Can't call numpy() on Tensor that requires grad. Use tensor.detach().numpy() instead."
     ]
    },
    {
     "data": {
      "image/png": "[encoded data removed]",
      "text/plain": [
       "<Figure size 640x480 with 1 Axes>"
      ]
     },
     "metadata": {},
     "output_type": "display_data"
    }
   ],
   "source": [
    "images = (torch.abs(sky_image))\n",
    "plt.imshow(images)\n",
    "plt.show()"
   ]
  }
 ],
 "metadata": {
  "kernelspec": {
   "display_name": "base",
   "language": "python",
   "name": "python3"
  },
  "language_info": {
   "codemirror_mode": {
    "name": "ipython",
    "version": 3
   },
   "file_extension": ".py",
   "mimetype": "text/x-python",
   "name": "python",
   "nbconvert_exporter": "python",
   "pygments_lexer": "ipython3",
   "version": "3.11.5"
  }
 },
 "nbformat": 4,
 "nbformat_minor": 2
}

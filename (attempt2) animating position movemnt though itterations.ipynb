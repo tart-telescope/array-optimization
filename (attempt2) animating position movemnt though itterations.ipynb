{
 "cells": [
  {
   "cell_type": "code",
   "execution_count": 1,
   "metadata": {},
   "outputs": [
    {
     "name": "stdout",
     "output_type": "stream",
     "text": [
      "Requirement already satisfied: moviepy in /Users/georgebrown/anaconda3/lib/python3.11/site-packages (1.0.3)\n",
      "Requirement already satisfied: decorator<5.0,>=4.0.2 in /Users/georgebrown/anaconda3/lib/python3.11/site-packages (from moviepy) (4.4.2)\n",
      "Requirement already satisfied: tqdm<5.0,>=4.11.2 in /Users/georgebrown/anaconda3/lib/python3.11/site-packages (from moviepy) (4.65.0)\n",
      "Requirement already satisfied: requests<3.0,>=2.8.1 in /Users/georgebrown/anaconda3/lib/python3.11/site-packages (from moviepy) (2.31.0)\n",
      "Requirement already satisfied: proglog<=1.0.0 in /Users/georgebrown/anaconda3/lib/python3.11/site-packages (from moviepy) (0.1.10)\n",
      "Requirement already satisfied: numpy>=1.17.3 in /Users/georgebrown/anaconda3/lib/python3.11/site-packages (from moviepy) (1.24.3)\n",
      "Requirement already satisfied: imageio<3.0,>=2.5 in /Users/georgebrown/anaconda3/lib/python3.11/site-packages (from moviepy) (2.31.1)\n",
      "Requirement already satisfied: imageio-ffmpeg>=0.2.0 in /Users/georgebrown/anaconda3/lib/python3.11/site-packages (from moviepy) (0.5.1)\n",
      "Requirement already satisfied: pillow>=8.3.2 in /Users/georgebrown/anaconda3/lib/python3.11/site-packages (from imageio<3.0,>=2.5->moviepy) (10.2.0)\n",
      "Requirement already satisfied: setuptools in /Users/georgebrown/anaconda3/lib/python3.11/site-packages (from imageio-ffmpeg>=0.2.0->moviepy) (68.0.0)\n",
      "Requirement already satisfied: charset-normalizer<4,>=2 in /Users/georgebrown/anaconda3/lib/python3.11/site-packages (from requests<3.0,>=2.8.1->moviepy) (2.0.4)\n",
      "Requirement already satisfied: idna<4,>=2.5 in /Users/georgebrown/anaconda3/lib/python3.11/site-packages (from requests<3.0,>=2.8.1->moviepy) (3.4)\n",
      "Requirement already satisfied: urllib3<3,>=1.21.1 in /Users/georgebrown/anaconda3/lib/python3.11/site-packages (from requests<3.0,>=2.8.1->moviepy) (1.26.16)\n",
      "Requirement already satisfied: certifi>=2017.4.17 in /Users/georgebrown/anaconda3/lib/python3.11/site-packages (from requests<3.0,>=2.8.1->moviepy) (2024.2.2)\n",
      "Note: you may need to restart the kernel to use updated packages.\n"
     ]
    }
   ],
   "source": [
    "pip install moviepy\n"
   ]
  },
  {
   "cell_type": "code",
   "execution_count": 2,
   "metadata": {},
   "outputs": [
    {
     "name": "stdout",
     "output_type": "stream",
     "text": [
      "MoviePy - Building file polygon_animation.gif with imageio.\n"
     ]
    },
    {
     "name": "stderr",
     "output_type": "stream",
     "text": [
      "                                                                \r"
     ]
    }
   ],
   "source": [
    "import moviepy.editor as mpy\n",
    "import json\n",
    "import numpy as np\n",
    "import matplotlib.pyplot as plt\n",
    "\n",
    "# Load coordinates from JSON file\n",
    "filename = 'coordinates.json'\n",
    "with open(filename, 'r') as json_file:\n",
    "    coordinates = json.load(json_file)\n",
    "\n",
    "# Extract coordinates\n",
    "x1 = coordinates['x1']\n",
    "y1 = coordinates['y1']\n",
    "x2 = coordinates['x2']\n",
    "y2 = coordinates['y2']\n",
    "x3 = coordinates['x3']\n",
    "y3 = coordinates['y3']\n",
    "x4 = coordinates['x4']\n",
    "y4 = coordinates['y4']\n",
    "x5 = coordinates['x5']\n",
    "y5 = coordinates['y5']\n",
    "\n",
    "# Number of steps\n",
    "steps = len(x1)\n",
    "\n",
    "# Set up the figure\n",
    "fig, ax = plt.subplots()\n",
    "ax.set_xlim(-2.5, 2.5)  # Adjust based on your data\n",
    "ax.set_ylim(-2.5, 2.5)  # Adjust based on your data\n",
    "\n",
    "def make_frame(t):\n",
    "    frame = int(t * 100)  # Assuming 30 fps\n",
    "    ax.clear()\n",
    "    ax.plot(\n",
    "        [x1[frame], x2[frame], x3[frame], x4[frame], x5[frame], x1[frame]],\n",
    "        [y1[frame], y2[frame], y3[frame], y4[frame], y5[frame], y1[frame]],\n",
    "        'o-'\n",
    "    )\n",
    "    ax.set_title(f\"Frame {frame}\")\n",
    "    fig.canvas.draw()\n",
    "    \n",
    "    # Convert canvas to image\n",
    "    image = np.frombuffer(fig.canvas.tostring_rgb(), dtype='uint8')\n",
    "    image = image.reshape(fig.canvas.get_width_height()[::-1] + (3,))\n",
    "    return image\n",
    "\n",
    "# Create the animation clip\n",
    "animation = mpy.VideoClip(make_frame, duration=steps / 100)\n",
    "\n",
    "# Save the clip as a GIF\n",
    "animation.write_gif(\"polygon_animation.gif\", fps=100)\n",
    "print(\"Animation has been saved as 'polygon_animation.gif'\")\n"
   ]
  }
 ],
 "metadata": {
  "kernelspec": {
   "display_name": "base",
   "language": "python",
   "name": "python3"
  },
  "language_info": {
   "codemirror_mode": {
    "name": "ipython",
    "version": 3
   },
   "file_extension": ".py",
   "mimetype": "text/x-python",
   "name": "python",
   "nbconvert_exporter": "python",
   "pygments_lexer": "ipython3",
   "version": "3.11.5"
  }
 },
 "nbformat": 4,
 "nbformat_minor": 2
}

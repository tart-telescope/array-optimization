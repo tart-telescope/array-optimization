{
 "cells": [
  {
   "cell_type": "markdown",
   "id": "291315a8",
   "metadata": {},
   "source": [
    "This is a Jupyter Notebook that contains work for the antenna array of the TART telescope  "
   ]
  },
  {
   "cell_type": "code",
   "execution_count": 1,
   "id": "14c9042f",
   "metadata": {},
   "outputs": [
    {
     "name": "stdout",
     "output_type": "stream",
     "text": [
      "TART!\n"
     ]
    }
   ],
   "source": [
    "print(\"TART!!!\")"
   ]
  },
  {
   "cell_type": "code",
   "execution_count": null,
   "id": "fdb08d30",
   "metadata": {},
   "outputs": [],
   "source": []
  }
 ],
 "metadata": {
  "kernelspec": {
   "display_name": "Python 3 (ipykernel)",
   "language": "python",
   "name": "python3"
  },
  "language_info": {
   "codemirror_mode": {
    "name": "ipython",
    "version": 3
   },
   "file_extension": ".py",
   "mimetype": "text/x-python",
   "name": "python",
   "nbconvert_exporter": "python",
   "pygments_lexer": "ipython3",
   "version": "3.11.5"
  }
 },
 "nbformat": 4,
 "nbformat_minor": 5
}
